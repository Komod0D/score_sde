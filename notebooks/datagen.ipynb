{
 "cells": [
  {
   "cell_type": "code",
   "execution_count": 1,
   "metadata": {},
   "outputs": [],
   "source": [
    "import tensorflow as tf\n",
    "import jax\n",
    "from jax import numpy as jnp\n",
    "import sklearn\n",
    "from matplotlib import pyplot as plt\n",
    "from matplotlib.widgets import Button, Slider\n",
    "import sklearn.datasets as skds"
   ]
  },
  {
   "cell_type": "code",
   "execution_count": 2,
   "metadata": {},
   "outputs": [
    {
     "name": "stdout",
     "output_type": "stream",
     "text": [
      "Using matplotlib backend: Qt5Agg\n"
     ]
    }
   ],
   "source": [
    "%matplotlib"
   ]
  },
  {
   "cell_type": "code",
   "execution_count": 32,
   "metadata": {},
   "outputs": [],
   "source": [
    "sr_points, sr_color = skds.make_swiss_roll(100000, noise=0.3)\n",
    "ds_points = jnp.array(sr_points, jnp.float32)\n",
    "ds_color = jnp.where(sr_color > 12, 1, 0)"
   ]
  },
  {
   "cell_type": "code",
   "execution_count": 6,
   "metadata": {},
   "outputs": [],
   "source": [
    "fig, ax = plt.subplots()\n",
    "\n",
    "ax.scatter(ds_points[:, 0], ds_points[:, 2], c=ds_color)\n",
    "plt.show()"
   ]
  },
  {
   "cell_type": "code",
   "execution_count": 33,
   "metadata": {},
   "outputs": [
    {
     "data": {
      "text/plain": [
       "(100000, 1, 1, 3)"
      ]
     },
     "execution_count": 33,
     "metadata": {},
     "output_type": "execute_result"
    }
   ],
   "source": [
    "ds_points_shape = ds_points[:, jnp.newaxis, jnp.newaxis, :]\n",
    "ds_points_shape.shape"
   ]
  },
  {
   "cell_type": "code",
   "execution_count": 34,
   "metadata": {},
   "outputs": [],
   "source": [
    "dataset_swirl = {'image': ds_points_shape, 'label': jnp.array(ds_color, dtype=jnp.int32)}\n",
    "ds_swirl = tf.data.Dataset.from_tensor_slices(dataset_swirl)\n",
    "tf.data.experimental.save(ds_swirl, '../datasets/swirl/data')"
   ]
  },
  {
   "cell_type": "code",
   "execution_count": 30,
   "metadata": {},
   "outputs": [],
   "source": [
    "spec = {'image': tf.TensorSpec(shape=(1, 1, 3), dtype=tf.float32, name=None),\n",
    "            'label': tf.TensorSpec(shape=(), dtype=tf.int32, name=None)}\n",
    "swirl_ds = tf.data.experimental.load('../datasets/swirl/data', spec)"
   ]
  },
  {
   "cell_type": "code",
   "execution_count": 14,
   "metadata": {},
   "outputs": [],
   "source": [
    "temp = ds_points[:1000]\n",
    "fig = plt.figure()\n",
    "ax = fig.add_subplot(projection='3d')\n",
    "ax.scatter(temp[:, 0], temp[:, 1], temp[:, 2], c=ds_color[:1000])\n",
    "plt.show()"
   ]
  },
  {
   "cell_type": "code",
   "execution_count": 4,
   "metadata": {},
   "outputs": [
    {
     "data": {
      "text/plain": [
       "{'image': TensorSpec(shape=(1, 1, 2), dtype=tf.float32, name=None),\n",
       " 'label': TensorSpec(shape=(), dtype=tf.int32, name=None)}"
      ]
     },
     "execution_count": 4,
     "metadata": {},
     "output_type": "execute_result"
    }
   ],
   "source": [
    "points = []\n",
    "while len(points) < 100000:\n",
    "    p = tf.random.uniform((1, 1, 2), -1, 1)\n",
    "    if tf.math.reduce_sum(p**2) <= 1:\n",
    "        points.append(p)\n",
    "dataset = {'image': points, 'label': [1 if tf.math.reduce_sum(p**2) <= 0.5 else 0 for p in points]}\n",
    "ds = tf.data.Dataset.from_tensor_slices(dataset)\n",
    "tf.data.experimental.save(ds, 'disk/data')\n",
    "ds.element_spec"
   ]
  },
  {
   "cell_type": "code",
   "execution_count": 5,
   "metadata": {},
   "outputs": [],
   "source": [
    "spec = {'image': tf.TensorSpec(shape=(1, 1, 2), dtype=tf.float32, name=None),\n",
    "            'label': tf.TensorSpec(shape=(), dtype=tf.int32, name=None)}\n",
    "new_ds = tf.data.experimental.load('disk/data', spec)"
   ]
  },
  {
   "cell_type": "code",
   "execution_count": 9,
   "metadata": {},
   "outputs": [],
   "source": [
    "data = [d['image'] for d in new_ds.take(10000)]\n",
    "data_np = tf.stack(data, axis=0).numpy()\n",
    "data_np = jnp.squeeze(data_np)"
   ]
  },
  {
   "cell_type": "code",
   "execution_count": 10,
   "metadata": {},
   "outputs": [],
   "source": [
    "fig, ax = plt.subplots()\n",
    "fig.set_figheight(5)\n",
    "fig.set_figwidth(5)\n",
    "\n",
    "circle = plt.Circle((0, 0), 1, color='r', fill=False)\n",
    "\n",
    "xs = lambda r: data_np[:, 0] * r\n",
    "ys = lambda r: data_np[:, 1] * r\n",
    "\n",
    "ax.add_patch(circle)\n",
    "line, = ax.plot(xs(0.6), ys(0.6), 'r+')\n",
    "ax.grid(True)\n",
    "\n",
    "axrad = fig.add_axes([0.1, 0.25, 0.0225, 0.63])\n",
    "\n",
    "rad_slider = Slider(\n",
    "    ax=axrad,\n",
    "    label=\"Radius\",\n",
    "    valmin=0.,\n",
    "    valmax=1.,\n",
    "    valinit=0.6,\n",
    "    orientation=\"vertical\"\n",
    ")\n",
    "\n",
    "def update(val):\n",
    "    line.set_ydata(ys(rad_slider.val))\n",
    "    line.set_xdata(xs(rad_slider.val))\n",
    "    fig.canvas.draw_idle()\n",
    "\n",
    "\n",
    "rad_slider.on_changed(update)\n",
    "\n",
    "plt.show()"
   ]
  }
 ],
 "metadata": {
  "kernelspec": {
   "display_name": "thesis",
   "language": "python",
   "name": "python3"
  },
  "language_info": {
   "codemirror_mode": {
    "name": "ipython",
    "version": 3
   },
   "file_extension": ".py",
   "mimetype": "text/x-python",
   "name": "python",
   "nbconvert_exporter": "python",
   "pygments_lexer": "ipython3",
   "version": "3.6.13"
  }
 },
 "nbformat": 4,
 "nbformat_minor": 2
}
