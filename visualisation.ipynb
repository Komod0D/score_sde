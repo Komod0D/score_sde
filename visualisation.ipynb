{
 "cells": [
  {
   "cell_type": "code",
   "execution_count": 27,
   "metadata": {},
   "outputs": [],
   "source": [
    "import tensorflow as tf\n",
    "import flax\n",
    "from flax.training import checkpoints\n",
    "from flax import jax_utils as flax_utils\n",
    "from matplotlib import pyplot as plt\n",
    "import jax\n",
    "from jax import numpy as jnp\n",
    "\n",
    "import functools\n",
    "\n",
    "\n",
    "from models import super_simple\n",
    "from models import utils as mutils\n",
    "import sampling\n",
    "import losses\n",
    "\n",
    "from configs.ve.disk_ssim import get_config\n",
    "import sde_lib\n",
    "import datasets\n",
    "\n",
    "from matplotlib import pyplot as plt\n",
    "from matplotlib.widgets import Slider"
   ]
  },
  {
   "cell_type": "code",
   "execution_count": 2,
   "metadata": {},
   "outputs": [
    {
     "name": "stderr",
     "output_type": "stream",
     "text": [
      "WARNING:absl:No GPU/TPU found, falling back to CPU. (Set TF_CPP_MIN_LOG_LEVEL=0 and rerun for more info.)\n"
     ]
    }
   ],
   "source": [
    "rng = jax.random.PRNGKey(42)\n",
    "model_rng, sampling_rng = jax.random.split(rng)\n",
    "config = get_config()\n",
    "score_model, init_model_state, init_model_params = mutils.init_model(model_rng, config)"
   ]
  },
  {
   "cell_type": "code",
   "execution_count": 13,
   "metadata": {},
   "outputs": [],
   "source": [
    "optimizer = losses.get_optimizer(config).create(init_model_params)\n",
    "\n",
    "state = mutils.State(step=0, optimizer=optimizer, lr=config.optim.lr,\n",
    "                       model_state=init_model_state,\n",
    "                       ema_rate=config.model.ema_rate,\n",
    "                       params_ema=init_model_params,\n",
    "                       rng=rng)"
   ]
  },
  {
   "cell_type": "code",
   "execution_count": 14,
   "metadata": {},
   "outputs": [],
   "source": [
    "ckpt_model_state = checkpoints.restore_checkpoint('checkpoints', state, 1)"
   ]
  },
  {
   "cell_type": "code",
   "execution_count": 15,
   "metadata": {},
   "outputs": [],
   "source": [
    "if config.training.sde.lower() == 'vpsde':\n",
    "    sde = sde_lib.VPSDE(beta_min=config.model.beta_min, beta_max=config.model.beta_max, N=config.model.num_scales)\n",
    "    sampling_eps = 1e-3\n",
    "elif config.training.sde.lower() == 'subvpsde':\n",
    "    sde = sde_lib.subVPSDE(beta_min=config.model.beta_min, beta_max=config.model.beta_max, N=config.model.num_scales)\n",
    "    sampling_eps = 1e-3\n",
    "elif config.training.sde.lower() == 'vesde':\n",
    "    sde = sde_lib.VESDE(sigma_min=config.model.sigma_min, sigma_max=config.model.sigma_max, N=config.model.num_scales)\n",
    "    sampling_eps = 1e-5\n",
    "else:\n",
    "    raise NotImplementedError(f\"SDE {config.training.sde} unknown.\")\n",
    "inverse_scaler = datasets.get_data_inverse_scaler(config)\n",
    "\n",
    "sampling_shape = (config.training.batch_size // jax.local_device_count(), config.data.image_size,\n",
    "                config.data.image_size, config.data.num_channels)"
   ]
  },
  {
   "cell_type": "code",
   "execution_count": 76,
   "metadata": {},
   "outputs": [],
   "source": [
    "sde.N = 2000"
   ]
  },
  {
   "cell_type": "code",
   "execution_count": 77,
   "metadata": {},
   "outputs": [],
   "source": [
    "# sampling_fn = pc_sampler\n",
    "sampling_fn = sampling.get_sampling_fn(config, sde, score_model, sampling_shape, inverse_scaler, sampling_eps)"
   ]
  },
  {
   "cell_type": "code",
   "execution_count": 78,
   "metadata": {},
   "outputs": [],
   "source": [
    "pstate = flax_utils.replicate(state)\n",
    "num_train_steps = config.training.n_iters\n",
    "\n",
    "# In case there are multiple hosts (e.g., TPU pods), only log to host 0\n",
    "rng = jax.random.fold_in(rng, jax.host_id())\n",
    "rng, *next_rng = jax.random.split(rng, num=jax.local_device_count() + 1)\n",
    "next_rng = jnp.asarray(next_rng)\n",
    "\n",
    "a, b = sampling_fn(next_rng, pstate)"
   ]
  },
  {
   "cell_type": "code",
   "execution_count": 79,
   "metadata": {},
   "outputs": [
    {
     "data": {
      "text/plain": [
       "(64, 2)"
      ]
     },
     "execution_count": 79,
     "metadata": {},
     "output_type": "execute_result"
    }
   ],
   "source": [
    "a_sq = jnp.squeeze(a)\n",
    "a_sq.shape"
   ]
  },
  {
   "cell_type": "code",
   "execution_count": 80,
   "metadata": {},
   "outputs": [
    {
     "data": {
      "text/plain": [
       "DeviceArray(3.1743815e+29, dtype=float32)"
      ]
     },
     "execution_count": 80,
     "metadata": {},
     "output_type": "execute_result"
    }
   ],
   "source": [
    "jnp.sum(a_sq**2, axis=1).mean()"
   ]
  },
  {
   "cell_type": "code",
   "execution_count": 23,
   "metadata": {},
   "outputs": [],
   "source": [
    "def pc_sampler(rng, state):\n",
    "    \"\"\" The PC sampler funciton.\n",
    "\n",
    "    Args:\n",
    "      rng: A JAX random state\n",
    "      state: A `flax.struct.dataclass` object that represents the training state of a score-based model.\n",
    "    Returns:\n",
    "      Samples, number of function evaluations\n",
    "    \"\"\"\n",
    "    # Initial sample\n",
    "    predictor_update_fn = functools.partial(sampling.shared_predictor_update_fn,\n",
    "                                          sde=sde,\n",
    "                                          model=score_model,\n",
    "                                          predictor=config.sampling.predictor,\n",
    "                                          probability_flow=config.sampling.probability_flow,\n",
    "                                          continuous=config.training.continuous)\n",
    "    corrector_update_fn = functools.partial(sampling.shared_corrector_update_fn,\n",
    "                                          sde=sde,\n",
    "                                          model=score_model,\n",
    "                                          corrector=config.sampling.corrector,\n",
    "                                          continuous=config.training.continuous,\n",
    "                                          snr=config.sampling.snr,\n",
    "                                          n_steps=config.sampling.n_steps_each)\n",
    "    rng, step_rng = jax.random.split(rng)\n",
    "    x = sde.prior_sampling(step_rng, sampling_shape)\n",
    "    timesteps = jnp.linspace(sde.T, sampling_eps, sde.N)\n",
    "\n",
    "    def loop_body(i, val):\n",
    "      rng, x, x_mean = val\n",
    "      t = timesteps[i]\n",
    "      vec_t = jnp.ones(sampling_shape[0]) * t\n",
    "      rng, step_rng = jax.random.split(rng)\n",
    "      x, x_mean = corrector_update_fn(step_rng, state, x, vec_t)\n",
    "      rng, step_rng = jax.random.split(rng)\n",
    "      x, x_mean = predictor_update_fn(step_rng, state, x, vec_t)\n",
    "      return rng, x, x_mean\n",
    "\n",
    "    _, x, x_mean = jax.lax.fori_loop(0, sde.N, loop_body, (rng, x, x))\n",
    "    # Denoising is equivalent to running one predictor step without adding noise.\n",
    "    return inverse_scaler(x_mean if config.sampling.noise_removal else x), sde.N * (config.sampling.n_steps_each + 1)"
   ]
  },
  {
   "cell_type": "code",
   "execution_count": null,
   "metadata": {},
   "outputs": [
    {
     "data": {
      "image/png": "[encoded data removed]",
      "text/plain": [
       "<Figure size 360x360 with 2 Axes>"
      ]
     },
     "metadata": {
      "needs_background": "light"
     },
     "output_type": "display_data"
    }
   ],
   "source": [
    "fig, ax = plt.subplots()\n",
    "fig.set_figheight(5)\n",
    "fig.set_figwidth(5)\n",
    "\n",
    "circle = plt.Circle((0, 0), 1, color='r', fill=False)\n",
    "\n",
    "xs = lambda r: a_sq[:, 0]\n",
    "ys = lambda r: a_sq[:, 1]\n",
    "\n",
    "ax.add_patch(circle)\n",
    "line, = ax.plot(xs(0.6), ys(0.6), 'r+')\n",
    "ax.grid(True)\n",
    "\n",
    "ax.plot(jnp.linspace(-1.4e15, 1e15))\n",
    "\n",
    "axrad = fig.add_axes([0.1, 0.25, 0.0225, 0.63])\n",
    "\n",
    "rad_slider = Slider(\n",
    "    ax=axrad,\n",
    "    label=\"Radius\",\n",
    "    valmin=0.,\n",
    "    valmax=1.,\n",
    "    valinit=0.6,\n",
    "    orientation=\"vertical\"\n",
    ")\n",
    "\n",
    "def update(val):\n",
    "    line.set_ydata(ys(rad_slider.val))\n",
    "    line.set_xdata(xs(rad_slider.val))\n",
    "    fig.canvas.draw_idle()\n",
    "\n",
    "\n",
    "rad_slider.on_changed(update)\n",
    "\n",
    "plt.show()"
   ]
  }
 ],
 "metadata": {
  "kernelspec": {
   "display_name": "thesis",
   "language": "python",
   "name": "python3"
  },
  "language_info": {
   "codemirror_mode": {
    "name": "ipython",
    "version": 3
   },
   "file_extension": ".py",
   "mimetype": "text/x-python",
   "name": "python",
   "nbconvert_exporter": "python",
   "pygments_lexer": "ipython3",
   "version": "3.6.13"
  }
 },
 "nbformat": 4,
 "nbformat_minor": 2
}
