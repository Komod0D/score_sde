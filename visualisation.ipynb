{
 "cells": [
  {
   "cell_type": "code",
   "execution_count": 1,
   "metadata": {},
   "outputs": [
    {
     "name": "stderr",
     "output_type": "stream",
     "text": [
      "2025-01-31 15:40:08.975322: I tensorflow/core/platform/cpu_feature_guard.cc:182] This TensorFlow binary is optimized to use available CPU instructions in performance-critical operations.\n",
      "To enable the following instructions: SSE4.1 SSE4.2 AVX AVX2 FMA, in other operations, rebuild TensorFlow with the appropriate compiler flags.\n"
     ]
    }
   ],
   "source": [
    "import tensorflow as tf\n",
    "from losses import TrainState\n",
    "from flax.training import checkpoints\n",
    "from flax import jax_utils as flax_utils\n",
    "from matplotlib import pyplot as plt\n",
    "import jax\n",
    "from jax import numpy as jnp\n",
    "\n",
    "from models import super_simple\n",
    "from models import utils as mutils\n",
    "import sampling\n",
    "import losses\n",
    "\n",
    "from configs.vp.disk_ssim_continuous import get_config\n",
    "import sde_lib\n",
    "import datasets\n",
    "\n",
    "from matplotlib import pyplot as plt\n",
    "from matplotlib.widgets import Slider\n",
    "from sklearn.datasets import make_swiss_roll\n",
    "import os"
   ]
  },
  {
   "cell_type": "code",
   "execution_count": 3,
   "metadata": {},
   "outputs": [],
   "source": [
    "%matplotlib qt"
   ]
  },
  {
   "cell_type": "code",
   "execution_count": 4,
   "metadata": {},
   "outputs": [],
   "source": [
    "rng = jax.random.PRNGKey(42)\n",
    "model_rng, sampling_rng = jax.random.split(rng)\n",
    "config = get_config()\n",
    "score_model, init_model_state, init_model_params = mutils.init_model(model_rng, config)"
   ]
  },
  {
   "cell_type": "code",
   "execution_count": 5,
   "metadata": {},
   "outputs": [],
   "source": [
    "optimizer = losses.get_optimizer(config)\n",
    "\n",
    "state = TrainState.create(tx=optimizer, apply_fn=score_model.apply,\n",
    "                          params=init_model_params, mutable_state=init_model_state,\n",
    "                          rng=rng)"
   ]
  },
  {
   "cell_type": "code",
   "execution_count": 6,
   "metadata": {},
   "outputs": [
    {
     "name": "stderr",
     "output_type": "stream",
     "text": [
      "WARNING:absl:The transformations API will eventually be replaced by an upgraded design. The current API will not be removed until this point, but it will no longer be actively worked on.\n"
     ]
    }
   ],
   "source": [
    "workdir = '/home/komodo/Documents/uni/thesis/score_sde'\n",
    "ckpt_model_state = checkpoints.restore_checkpoint(os.path.join(workdir, '../backups/disk_modern/ssim/checkpoints'), state)"
   ]
  },
  {
   "cell_type": "code",
   "execution_count": 45,
   "metadata": {},
   "outputs": [],
   "source": [
    "if config.training.sde.lower() == 'vpsde':\n",
    "    sde = sde_lib.VPSDE(beta_min=config.model.beta_min, beta_max=config.model.beta_max, N=config.model.num_scales)\n",
    "    sampling_eps = 1e-3\n",
    "elif config.training.sde.lower() == 'subvpsde':\n",
    "    sde = sde_lib.subVPSDE(beta_min=config.model.beta_min, beta_max=config.model.beta_max, N=config.model.num_scales)\n",
    "    sampling_eps = 1e-3\n",
    "elif config.training.sde.lower() == 'vesde':\n",
    "    sde = sde_lib.VESDE(sigma_min=config.model.sigma_min, sigma_max=config.model.sigma_max, N=config.model.num_scales)\n",
    "    sampling_eps = 1e-5\n",
    "else:\n",
    "    raise NotImplementedError(f\"SDE {config.training.sde} unknown.\")\n",
    "inverse_scaler = datasets.get_data_inverse_scaler(config)\n",
    "\n",
    "sampling_shape = (config.training.batch_size // jax.local_device_count(), config.data.image_size,\n",
    "                config.data.image_size, config.data.num_channels)"
   ]
  },
  {
   "cell_type": "code",
   "execution_count": 42,
   "metadata": {},
   "outputs": [],
   "source": [
    "# sampling_fn = pc_sampler\n",
    "sampling_fn = sampling.get_sampling_fn(config, sde, score_model, sampling_shape, inverse_scaler, sampling_eps)"
   ]
  },
  {
   "cell_type": "code",
   "execution_count": 43,
   "metadata": {},
   "outputs": [
    {
     "name": "stderr",
     "output_type": "stream",
     "text": [
      "/home/komodo/miniconda3/envs/testing/lib/python3.11/site-packages/jax/_src/xla_bridge.py:1174: UserWarning: jax.host_id has been renamed to jax.process_index. This alias will eventually be removed; please update your code.\n",
      "  warnings.warn(\n"
     ]
    }
   ],
   "source": [
    "pstate = flax_utils.replicate(ckpt_model_state)\n",
    "num_train_steps = config.training.n_iters\n",
    "\n",
    "# In case there are multiple hosts (e.g., TPU pods), only log to host 0\n",
    "rng = jax.random.fold_in(rng, jax.host_id())\n",
    "rng, *next_rng = jax.random.split(rng, num=jax.local_device_count() + 1)\n",
    "next_rng = jnp.asarray(next_rng)\n",
    "\n",
    "a, b = sampling_fn(next_rng, pstate, jnp.array([sde.N]))"
   ]
  },
  {
   "cell_type": "code",
   "execution_count": 10,
   "metadata": {},
   "outputs": [
    {
     "data": {
      "text/plain": [
       "(16, 50, 1, 128, 1, 1, 2)"
      ]
     },
     "execution_count": 10,
     "metadata": {},
     "output_type": "execute_result"
    }
   ],
   "source": [
    "rng_vmap = jax.vmap(lambda r, t: sampling_fn(r, pstate, jnp.array([t])), in_axes=(0, None), out_axes=0)\n",
    "both_vmap = jax.vmap(lambda r, t: rng_vmap(r, t), in_axes=(None, 0), out_axes=1)\n",
    "\n",
    "rng, *next_rng = jax.random.split(rng, num=jax.local_device_count() * 16 + 1)\n",
    "next_rng = jnp.asarray(next_rng)[:, None, :]\n",
    "next_rng.shape\n",
    "\n",
    "ts = jnp.floor(jnp.linspace(0, sde.N, 50)).astype(jnp.int32)\n",
    "\n",
    "a, b = both_vmap(next_rng, ts)\n",
    "a.shape"
   ]
  },
  {
   "cell_type": "code",
   "execution_count": 11,
   "metadata": {},
   "outputs": [
    {
     "data": {
      "text/plain": [
       "(16, 50, 128, 2)"
      ]
     },
     "execution_count": 11,
     "metadata": {},
     "output_type": "execute_result"
    }
   ],
   "source": [
    "a_sq = a.reshape((16, 50, config.training.batch_size, a.shape[-1]))\n",
    "a_sq.shape"
   ]
  },
  {
   "cell_type": "code",
   "execution_count": 12,
   "metadata": {},
   "outputs": [
    {
     "data": {
      "text/plain": [
       "Array([0.8908451 , 0.87487286, 0.88806045, 0.8920609 , 0.8923133 ,\n",
       "       0.8886476 , 0.8897487 , 0.90048707, 0.8990839 , 0.88678765,\n",
       "       0.8871851 , 0.8868524 , 0.87637115, 0.8735732 , 0.86853105,\n",
       "       0.86097294, 0.8458158 , 0.8418015 , 0.8364288 , 0.83557713,\n",
       "       0.8196401 , 0.80558825, 0.79425514, 0.787498  , 0.7718704 ,\n",
       "       0.7621784 , 0.74935544, 0.73565745, 0.7249646 , 0.71591586,\n",
       "       0.70578986, 0.6920155 , 0.68628585, 0.67271775, 0.65858054,\n",
       "       0.6535178 , 0.6532285 , 0.64719296, 0.6423175 , 0.64397675,\n",
       "       0.646213  , 0.6448644 , 0.64511395, 0.64148045, 0.6421057 ,\n",
       "       0.64803654, 0.6502265 , 0.6508821 , 0.6527535 , 0.6566098 ],      dtype=float32)"
      ]
     },
     "execution_count": 12,
     "metadata": {},
     "output_type": "execute_result"
    }
   ],
   "source": [
    "jnp.mean(jnp.sqrt(jnp.sum(a_sq**2, axis=-1)), axis=(0, 2))"
   ]
  },
  {
   "cell_type": "code",
   "execution_count": 93,
   "metadata": {},
   "outputs": [
    {
     "data": {
      "text/plain": [
       "Array(14.74979, dtype=float32)"
      ]
     },
     "execution_count": 93,
     "metadata": {},
     "output_type": "execute_result"
    }
   ],
   "source": [
    "gt, colors = make_swiss_roll(1000, noise=0.3)\n",
    "jnp.mean(jnp.sqrt(jnp.sum(gt**2, axis=-1)))"
   ]
  },
  {
   "cell_type": "code",
   "execution_count": 35,
   "metadata": {},
   "outputs": [],
   "source": [
    "temp = a_sq.transpose((1, 0, 2, 3)).reshape((50, -1, a.shape[-1]))"
   ]
  },
  {
   "cell_type": "code",
   "execution_count": 36,
   "metadata": {},
   "outputs": [],
   "source": [
    "xs = temp[:, :, 0]\n",
    "ys = temp[:, :, 2 if config.data.dataset == 'SWIRL' else 1]"
   ]
  },
  {
   "cell_type": "code",
   "execution_count": 94,
   "metadata": {},
   "outputs": [],
   "source": [
    "fig, ax = plt.subplots()\n",
    "fig.set_figheight(5)\n",
    "fig.set_figwidth(5)\n",
    "\n",
    "circle = plt.Circle((0, 0), 1, color='r', fill=False)\n",
    "\n",
    "ax.add_patch(circle)\n",
    "line, = ax.plot(gt[:, 0], gt[:, 2], 'r+')\n",
    "\n",
    "ax.grid(True)\n",
    "\n",
    "plt.show()"
   ]
  },
  {
   "cell_type": "code",
   "execution_count": 38,
   "metadata": {},
   "outputs": [],
   "source": [
    "fig, ax = plt.subplots()\n",
    "fig.set_figheight(5)\n",
    "fig.set_figwidth(5)\n",
    "\n",
    "circle = plt.Circle((0, 0), 1, color='r', fill=False)\n",
    "\n",
    "ax.add_patch(circle)\n",
    "line, = ax.plot(xs[-1], ys[-1], 'r+')\n",
    "\n",
    "axamp = fig.add_axes([0.03, 0.2, 0.0225, 0.63])\n",
    "t_slider = Slider(\n",
    "    ax=axamp,\n",
    "    label=\"T\",\n",
    "    valmin=0,\n",
    "    valmax=sde.N,\n",
    "    valinit=sde.N,\n",
    "    orientation=\"vertical\",\n",
    "    valstep=ts\n",
    ")\n",
    "\n",
    "# The function to be called anytime a slider's value changes\n",
    "def update(val):\n",
    "    ind = jnp.where(ts == val)[0]\n",
    "    line.set_xdata(xs[ind])\n",
    "    line.set_ydata(ys[ind])\n",
    "    fig.canvas.draw_idle()\n",
    "\n",
    "\n",
    "# register the update function with each slider\n",
    "t_slider.on_changed(update)\n",
    "\n",
    "ax.grid(True)\n",
    "\n",
    "plt.show()"
   ]
  }
 ],
 "metadata": {
  "kernelspec": {
   "display_name": "testing",
   "language": "python",
   "name": "python3"
  },
  "language_info": {
   "codemirror_mode": {
    "name": "ipython",
    "version": 3
   },
   "file_extension": ".py",
   "mimetype": "text/x-python",
   "name": "python",
   "nbconvert_exporter": "python",
   "pygments_lexer": "ipython3",
   "version": "3.11.8"
  }
 },
 "nbformat": 4,
 "nbformat_minor": 2
}
