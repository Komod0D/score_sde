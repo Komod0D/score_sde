{
 "cells": [
  {
   "cell_type": "code",
   "execution_count": 1,
   "metadata": {},
   "outputs": [
    {
     "name": "stderr",
     "output_type": "stream",
     "text": [
      "2025-02-02 19:14:17.236445: I tensorflow/core/platform/cpu_feature_guard.cc:182] This TensorFlow binary is optimized to use available CPU instructions in performance-critical operations.\n",
      "To enable the following instructions: SSE4.1 SSE4.2 AVX AVX2 FMA, in other operations, rebuild TensorFlow with the appropriate compiler flags.\n"
     ]
    }
   ],
   "source": [
    "import tensorflow as tf\n",
    "from losses import TrainState\n",
    "from flax.training import checkpoints\n",
    "from flax import jax_utils as flax_utils\n",
    "from matplotlib import pyplot as plt\n",
    "import jax\n",
    "from jax import numpy as jnp\n",
    "\n",
    "from models import super_simple\n",
    "from models import utils as mutils\n",
    "import sampling\n",
    "import losses\n",
    "\n",
    "from configs.vp.swirl2d_ssim_continuous import get_config\n",
    "import sde_lib\n",
    "import datasets\n",
    "\n",
    "from matplotlib import pyplot as plt\n",
    "from matplotlib.widgets import Slider\n",
    "from sklearn.datasets import make_swiss_roll\n",
    "import os"
   ]
  },
  {
   "cell_type": "code",
   "execution_count": 3,
   "metadata": {},
   "outputs": [],
   "source": [
    "%matplotlib qt"
   ]
  },
  {
   "cell_type": "markdown",
   "metadata": {},
   "source": [
    "### Load State"
   ]
  },
  {
   "cell_type": "code",
   "execution_count": 13,
   "metadata": {},
   "outputs": [
    {
     "name": "stderr",
     "output_type": "stream",
     "text": [
      "WARNING:absl:The transformations API will eventually be replaced by an upgraded design. The current API will not be removed until this point, but it will no longer be actively worked on.\n"
     ]
    }
   ],
   "source": [
    "rng = jax.random.PRNGKey(42)\n",
    "model_rng, sampling_rng = jax.random.split(rng)\n",
    "config = get_config()\n",
    "score_model, init_model_state, init_model_params = mutils.init_model(model_rng, config)\n",
    "optimizer = losses.get_optimizer(config)\n",
    "\n",
    "state = TrainState.create(tx=optimizer, apply_fn=score_model.apply,\n",
    "                          params=init_model_params, mutable_state=init_model_state,\n",
    "                          rng=rng)\n",
    "workdir = '/home/komodo/Documents/uni/thesis/score_sde'\n",
    "ckpt_model_state = checkpoints.restore_checkpoint(os.path.join(workdir, 'checkpoints'), state)"
   ]
  },
  {
   "cell_type": "markdown",
   "metadata": {},
   "source": [
    "### Setup SDE"
   ]
  },
  {
   "cell_type": "code",
   "execution_count": 5,
   "metadata": {},
   "outputs": [],
   "source": [
    "if config.training.sde.lower() == 'vpsde':\n",
    "    sde = sde_lib.VPSDE(beta_min=config.model.beta_min, beta_max=config.model.beta_max, N=config.model.num_scales)\n",
    "    sampling_eps = 1e-3\n",
    "elif config.training.sde.lower() == 'subvpsde':\n",
    "    sde = sde_lib.subVPSDE(beta_min=config.model.beta_min, beta_max=config.model.beta_max, N=config.model.num_scales)\n",
    "    sampling_eps = 1e-3\n",
    "elif config.training.sde.lower() == 'vesde':\n",
    "    sde = sde_lib.VESDE(sigma_min=config.model.sigma_min, sigma_max=config.model.sigma_max, N=config.model.num_scales)\n",
    "    sampling_eps = 1e-5\n",
    "else:\n",
    "    raise NotImplementedError(f\"SDE {config.training.sde} unknown.\")\n",
    "inverse_scaler = datasets.get_data_inverse_scaler(config)\n",
    "\n",
    "sampling_shape = (config.training.batch_size // jax.local_device_count(), config.data.image_size,\n",
    "                config.data.image_size, config.data.num_channels)"
   ]
  },
  {
   "cell_type": "markdown",
   "metadata": {},
   "source": [
    "### Sample Points\n",
    "Samples 16 * batch_size points for every time step (50 time steps)"
   ]
  },
  {
   "cell_type": "code",
   "execution_count": 14,
   "metadata": {},
   "outputs": [
    {
     "name": "stderr",
     "output_type": "stream",
     "text": [
      "/home/komodo/miniconda3/envs/testing/lib/python3.11/site-packages/jax/_src/xla_bridge.py:1174: UserWarning: jax.host_id has been renamed to jax.process_index. This alias will eventually be removed; please update your code.\n",
      "  warnings.warn(\n"
     ]
    },
    {
     "data": {
      "text/plain": [
       "Array([ 1.2631617,  1.2521931,  1.2943022,  1.3370333,  1.3527348,\n",
       "        1.3707066,  1.347735 ,  1.3652847,  1.3560367,  1.3389609,\n",
       "        1.3361177,  1.3321913,  1.3528059,  1.3649648,  1.3513454,\n",
       "        1.3671756,  1.3634706,  1.3685288,  1.3567877,  1.3573569,\n",
       "        1.3878009,  1.4146276,  1.4689457,  1.532206 ,  1.6168892,\n",
       "        1.7641876,  1.8994272,  2.0725281,  2.2903035,  2.5214999,\n",
       "        2.83666  ,  3.1763964,  3.567478 ,  3.9756627,  4.4249096,\n",
       "        4.8872385,  5.359458 ,  6.0237823,  6.529478 ,  7.0396385,\n",
       "        7.550403 ,  8.047462 ,  8.514706 ,  8.928478 ,  9.284508 ,\n",
       "        9.5945635,  9.834069 , 10.015916 , 10.132114 , 10.192298 ],      dtype=float32)"
      ]
     },
     "execution_count": 14,
     "metadata": {},
     "output_type": "execute_result"
    }
   ],
   "source": [
    "num_rng = 16\n",
    "num_sample_steps = 50\n",
    "\n",
    "# sampling_fn = pc_sampler\n",
    "sampling_fn = sampling.get_sampling_fn(config, sde, score_model, sampling_shape, inverse_scaler, sampling_eps)\n",
    "pstate = flax_utils.replicate(ckpt_model_state)\n",
    "num_train_steps = config.training.n_iters\n",
    "\n",
    "rng_vmap = jax.vmap(lambda r, t: sampling_fn(r, pstate, jnp.array([t])), in_axes=(0, None), out_axes=0)\n",
    "both_vmap = jax.vmap(lambda r, t: rng_vmap(r, t), in_axes=(None, 0), out_axes=1)\n",
    "\n",
    "rng = jax.random.fold_in(rng, jax.host_id())\n",
    "rng, *next_rng = jax.random.split(rng, num=jax.local_device_count() * num_rng + 1)\n",
    "next_rng = jnp.asarray(next_rng)[:, None, :]\n",
    "next_rng.shape\n",
    "\n",
    "ns = jnp.floor(jnp.linspace(0, sde.N, num_sample_steps)).astype(jnp.int32)\n",
    "\n",
    "a, b = both_vmap(next_rng, ns)\n",
    "a_sq = a.reshape((num_rng, num_sample_steps, config.training.batch_size, a.shape[-1]))\n",
    "temp = a_sq.transpose((1, 0, 2, 3)).reshape((num_sample_steps, -1, a.shape[-1]))\n",
    "xs = temp[:, :, 0]\n",
    "ys = temp[:, :, temp.shape[-1] - 1]\n",
    "jnp.mean(jnp.sqrt(jnp.sum(temp**2, axis=-1)), axis=1)"
   ]
  },
  {
   "cell_type": "markdown",
   "metadata": {},
   "source": [
    "### Visualise Data"
   ]
  },
  {
   "cell_type": "markdown",
   "metadata": {},
   "source": [
    "Prepare ground truth"
   ]
  },
  {
   "cell_type": "code",
   "execution_count": 7,
   "metadata": {},
   "outputs": [],
   "source": [
    "_, test_ds, _ = datasets.get_dataset(config)\n",
    "gt = tf.stack([x['image'] for x in test_ds.take(num_rng)]).numpy().reshape(temp.shape[1:])"
   ]
  },
  {
   "cell_type": "markdown",
   "metadata": {},
   "source": [
    "Visualise ground truth"
   ]
  },
  {
   "cell_type": "code",
   "execution_count": 47,
   "metadata": {},
   "outputs": [],
   "source": [
    "fig, ax = plt.subplots()\n",
    "fig.set_figheight(10)\n",
    "fig.set_figwidth(10)\n",
    "\n",
    "limits = jnp.max(jnp.abs(a_sq)) * 1.\n",
    "left, right = -limits, limits\n",
    "\n",
    "circle = plt.Circle((0, 0), 1, color='r', fill=False)\n",
    "\n",
    "ax.add_patch(circle)\n",
    "line, = ax.plot(gt[:, 0], gt[:, gt.shape[-1] - 1], 'r+')\n",
    "\n",
    "ax.set_ylim(left, right)\n",
    "ax.set_xlim(left, right)\n",
    "\n",
    "ax.grid(True)\n",
    "\n",
    "plt.show()"
   ]
  },
  {
   "cell_type": "markdown",
   "metadata": {},
   "source": [
    "Compute Scores"
   ]
  },
  {
   "cell_type": "code",
   "execution_count": 48,
   "metadata": {},
   "outputs": [
    {
     "data": {
      "text/plain": [
       "(50, 4096, 2)"
      ]
     },
     "execution_count": 48,
     "metadata": {},
     "output_type": "execute_result"
    }
   ],
   "source": [
    "N = 64\n",
    "ticks = jnp.linspace(left, right, N)\n",
    "coords = jnp.stack(jnp.meshgrid(ticks, ticks), axis=-1).reshape(-1, gt.shape[-1])\n",
    "\n",
    "ckpt = ckpt_model_state\n",
    "time_vmap = jax.vmap(lambda t: ckpt.apply_fn({'params': ckpt.params}, coords, jnp.tile(t, N**2),\n",
    "                                             train=False, mutable=False) * t**0.75)\n",
    "\n",
    "timesteps = jnp.linspace(sde.T, sampling_eps, sde.N)\n",
    "timesteps = jnp.stack([timesteps[ind] for ind in ns], axis=0)\n",
    "\n",
    "scores = -1. * time_vmap(timesteps).squeeze()\n",
    "scores.shape"
   ]
  },
  {
   "cell_type": "markdown",
   "metadata": {},
   "source": [
    "### Plot Data and Scores\n",
    "\n",
    "Note that score magnitudes are not completely to scale"
   ]
  },
  {
   "cell_type": "code",
   "execution_count": 50,
   "metadata": {},
   "outputs": [],
   "source": [
    "fig, ax = plt.subplots()\n",
    "fig.set_figheight(10)\n",
    "fig.set_figwidth(10)\n",
    "\n",
    "ax.set_xlim(left, right)\n",
    "ax.set_ylim(left, right)\n",
    "\n",
    "circle = plt.Circle((0, 0), 1, color='r', fill=False)\n",
    "ax.add_patch(circle)\n",
    "\n",
    "quiver = ax.quiver(coords[:, 0], coords[:, 1], scores[-1, :, 0], scores[-1, :, 1])\n",
    "line, = ax.plot(xs[-1, :], ys[-1, :], 'rx', alpha=0.7)\n",
    "\n",
    "\n",
    "axamp = fig.add_axes([0.01, 0.2, 0.0225, 0.63])\n",
    "t_slider = Slider(\n",
    "    ax=axamp,\n",
    "    label=\"T\",\n",
    "    valmin=0,\n",
    "    valmax=sde.N,\n",
    "    valinit=sde.N,\n",
    "    orientation=\"vertical\",\n",
    "    valstep=ns\n",
    ")\n",
    "\n",
    "# The function to be called anytime a slider's value changes\n",
    "def update(val):\n",
    "    ind = jnp.where(ns == val)[0]\n",
    "    quiver.set_UVC(scores[ind, :, 0], scores[ind, :, 1])\n",
    "    line.set_xdata(xs[ind])\n",
    "    line.set_ydata(ys[ind])\n",
    "    fig.canvas.draw_idle()\n",
    "\n",
    "\n",
    "# register the update function with each slider\n",
    "t_slider.on_changed(update)\n",
    "\n",
    "\n",
    "\n",
    "ax.grid(True)\n"
   ]
  }
 ],
 "metadata": {
  "kernelspec": {
   "display_name": "testing",
   "language": "python",
   "name": "python3"
  },
  "language_info": {
   "codemirror_mode": {
    "name": "ipython",
    "version": 3
   },
   "file_extension": ".py",
   "mimetype": "text/x-python",
   "name": "python",
   "nbconvert_exporter": "python",
   "pygments_lexer": "ipython3",
   "version": "3.11.8"
  }
 },
 "nbformat": 4,
 "nbformat_minor": 2
}
